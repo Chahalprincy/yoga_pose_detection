{
 "cells": [
  {
   "cell_type": "code",
   "execution_count": null,
   "id": "4c408517",
   "metadata": {},
   "outputs": [],
   "source": [
    "import torch, torchvision  \n",
    "from PIL import Image\n",
    "\n",
    "# Some basic setup:\n",
    "# Setup detectron2 logger\n",
    "import detectron2\n",
    "from detectron2.utils.logger import setup_logger\n",
    "setup_logger()\n",
    "\n",
    "# import some common libraries like numpy, json, cv2 etc.\n",
    "import numpy as np\n",
    "import os, json, cv2, random\n",
    "import matplotlib.pyplot as plt\n",
    "# from google.colab.patches import cv2_imshow\n",
    "\n",
    "# import some common detectron2 utilities\n",
    "from detectron2 import model_zoo\n",
    "from detectron2.engine import DefaultPredictor\n",
    "from detectron2.config import get_cfg\n",
    "from detectron2.utils.visualizer import Visualizer\n",
    "from detectron2.data import MetadataCatalog, DatasetCatalog"
   ]
  },
  {
   "cell_type": "code",
   "execution_count": null,
   "id": "e4b768d4",
   "metadata": {},
   "outputs": [],
   "source": [
    "# create the detectron2 model\n",
    "cfg = get_cfg()   # get a fresh new config\n",
    "cfg.merge_from_file(model_zoo.get_config_file(\"COCO-Keypoints/keypoint_rcnn_R_50_FPN_3x.yaml\"))\n",
    "cfg.MODEL.ROI_HEADS.SCORE_THRESH_TEST = 0.8  # set threshold for this model\n",
    "cfg.MODEL.WEIGHTS = model_zoo.get_checkpoint_url(\"COCO-Keypoints/keypoint_rcnn_R_50_FPN_3x.yaml\")\n",
    "cfg.MODEL.DEVICE = \"cpu\"\n",
    "predictor = DefaultPredictor(cfg)"
   ]
  },
  {
   "cell_type": "code",
   "execution_count": null,
   "id": "42d93466",
   "metadata": {},
   "outputs": [],
   "source": [
    "# load in the keypoint to yoga pose classification model\n",
    "\n",
    "model = torchvision.models.resnet34()\n",
    "model.fc = torch.nn.Linear(model.fc.in_features, 70)\n",
    "saved_state_dict = torch.load(\"trained_model_state_dict.ckpt\")\n",
    "model.load_state_dict(saved_state_dict)\n",
    "model.eval()"
   ]
  },
  {
   "cell_type": "code",
   "execution_count": null,
   "id": "a4fc116c",
   "metadata": {},
   "outputs": [],
   "source": [
    "id_to_pose = {\n",
    "    0: 'Boat_Pose_or_Paripurna_Navasana_out',\n",
    "    1: 'Bound_Angle_Pose_or_Baddha_Konasana_out',\n",
    "    2: 'Bow_Pose_or_Dhanurasana_out',\n",
    "    3: 'Bridge_Pose_or_Setu_Bandha_Sarvangasana_out',\n",
    "    4: 'Camel_Pose_or_Ustrasana_out',\n",
    "    5: 'Cat_Cow_Pose_or_Marjaryasana_out',\n",
    "    6: 'Chair_Pose_or_Utkatasana_out',\n",
    "    7: 'Child_Pose_or_Balasana_out',\n",
    "    8: 'Cobra_Pose_or_Bhujangasana_out',\n",
    "    9: 'Cockerel_Poseout',\n",
    "    10: 'Corpse_Pose_or_Savasana_out',\n",
    "    11: 'Cow_Face_Pose_or_Gomukhasana_out',\n",
    "    12: 'Crane_(Crow)_Pose_or_Bakasana_out',\n",
    "    13: 'Downward-Facing_Dog_pose_or_Adho_Mukha_Svanasana_out',\n",
    "    14: 'Eagle_Pose_or_Garudasana_out',\n",
    "    15: 'Eight-Angle_Pose_or_Astavakrasana_out',\n",
    "    16: 'Extended_Revolved_Side_Angle_Pose_or_Utthita_Parsvakonasana_out',\n",
    "    17: 'Extended_Revolved_Triangle_Pose_or_Utthita_Trikonasana_out',\n",
    "    18: 'Feathered_Peacock_Pose_or_Pincha_Mayurasana_out',\n",
    "    19: 'Firefly_Pose_or_Tittibhasana_out',\n",
    "    20: 'Fish_Pose_or_Matsyasana_out',\n",
    "    21: 'Four-Limbed_Staff_Pose_or_Chaturanga_Dandasana_out',\n",
    "    22: 'Frog_Pose_or_Bhekasanaout',\n",
    "    23: 'Garland_Pose_or_Malasana_out',\n",
    "    24: 'Gate_Pose_or_Parighasana_out',\n",
    "    25: 'Half_Lord_of_the_Fishes_Pose_or_Ardha_Matsyendrasana_out',\n",
    "    26: 'Half_Moon_Pose_or_Ardha_Chandrasana_out',\n",
    "    27: 'Handstand_pose_or_Adho_Mukha_Vrksasana_out',\n",
    "    28: 'Happy_Baby_Pose_or_Ananda_Balasana_out',\n",
    "    29: 'Head-to-Knee_Forward_Bend_pose_or_Janu_Sirsasana_out',\n",
    "    30: 'Heron_Pose_or_Krounchasana_out',\n",
    "    31: 'Intense_Side_Stretch_Pose_or_Parsvottanasana_out',\n",
    "    32: 'Legs-Up-the-Wall_Pose_or_Viparita_Karani_out',\n",
    "    33: 'Locust_Pose_or_Salabhasana_out',\n",
    "    34: 'Lord_of_the_Dance_Pose_or_Natarajasana_out',\n",
    "    35: 'Low_Lunge_pose_or_Anjaneyasana_out',\n",
    "    36: 'Peacock_Pose_or_Mayurasana_out',\n",
    "    37: 'Plow_Pose_or_Halasana_out',\n",
    "    38: 'Pose_Dedicated_to_the_Sage_Koundinya_or_Eka_Pada_Koundinyanasana_I_and_IIout',\n",
    "    39: 'Rajakapotasanaout',\n",
    "    40: 'Reclining_Hand-to-Big-Toe_Pose_or_Supta_Padangusthasana_out',\n",
    "    41: 'Revolved_Head-to-Knee_Pose_or_Parivrtta_Janu_Sirsasana_out',\n",
    "    42: 'Scale_Pose_or_Tolasana_out',\n",
    "    43: 'Scorpion_pose_or_vrischikasanaout',\n",
    "    44: 'Seated_Forward_Bend_pose_or_Paschimottanasana_out',\n",
    "    45: 'Shoulder-Pressing_Pose_or_Bhujapidasana_out',\n",
    "    46: 'Side_Crane_(Crow)_Pose_or_Parsva_Bakasana_out',\n",
    "    47: 'Side_Plank_Pose_or_Vasisthasana_out',\n",
    "    48: 'Sitting pose 1 (normal)out',\n",
    "    49: 'Split poseout',\n",
    "    50: 'Standing_Forward_Bend_pose_or_Uttanasana_out',\n",
    "    51: 'Standing_Split_pose_or_Urdhva_Prasarita_Eka_Padasana_out',\n",
    "    52: 'Standing_big_toe_hold_pose_or_Utthita_Padangusthasanaout',\n",
    "    53: 'Supported_Headstand_pose_or_Salamba_Sirsasana_out',\n",
    "    54: 'Supported_Shoulderstand_pose_or_Salamba_Sarvangasana_out',\n",
    "    55: 'Supta_Baddha_Konasana_out',\n",
    "    56: 'Supta_Virasana_Vajrasanaout',\n",
    "    57: 'Tortoise_Poseout',\n",
    "    58: 'Tree_Pose_or_Vrksasana_out',\n",
    "    59: 'Upward_Bow_(Wheel)_Pose_or_Urdhva_Dhanurasana_out',\n",
    "    60: 'Upward_Plank_Pose_or_Purvottanasana_out',\n",
    "    61: 'Virasana_or_Vajrasanaout',\n",
    "    62: 'Warrior_III_Pose_or_Virabhadrasana_III_out',\n",
    "    63: 'Warrior_II_Pose_or_Virabhadrasana_II_out',\n",
    "    64: 'Warrior_I_Pose_or_Virabhadrasana_I_out',\n",
    "    65: 'Wide-Angle_Seated_Forward_Bend_pose_or_Upavistha_Konasana_out',\n",
    "    66: 'Wide-Legged_Forward_Bend_pose_or_Prasarita_Padottanasana_out',\n",
    "    67: 'Wild_Thing_pose_or_Camatkarasana_out',\n",
    "    68: 'Wind_Relieving_pose_or_Pawanmuktasanaout',\n",
    "    69: 'viparita_virabhadrasana_or_reverse_warrior_poseout'\n",
    "}"
   ]
  },
  {
   "cell_type": "code",
   "execution_count": null,
   "id": "a51035e4",
   "metadata": {},
   "outputs": [],
   "source": [
    "# image transforms\n",
    "transform = torchvision.transforms.Compose(\n",
    "    [\n",
    "        torchvision.transforms.Resize(\n",
    "            size=(\n",
    "                224,\n",
    "                224,\n",
    "            )\n",
    "        ),\n",
    "        torchvision.transforms.ToTensor(),\n",
    "    ]\n",
    ")"
   ]
  },
  {
   "cell_type": "code",
   "execution_count": null,
   "id": "39f792a1",
   "metadata": {},
   "outputs": [],
   "source": [
    "# read in the image\n",
    "img_path = \"Images/Boat_Pose_or_Paripurna_Navasana_/275.jpg\"\n",
    "im = cv2.imread(img_path)\n",
    "Image.fromarray(im[:,:,::-1])"
   ]
  },
  {
   "cell_type": "code",
   "execution_count": null,
   "id": "c11bc28e",
   "metadata": {},
   "outputs": [],
   "source": [
    "# run the keypoint detection model\n",
    "outputs = predictor(im)\n",
    "v = Visualizer(im[:,:,::-1] * 0, MetadataCatalog.get(cfg.DATASETS.TRAIN[0]), scale=1.2)\n",
    "out = v.draw_instance_predictions(outputs[\"instances\"].to(\"cpu\"))"
   ]
  },
  {
   "cell_type": "code",
   "execution_count": null,
   "id": "4bb6d2f6",
   "metadata": {},
   "outputs": [],
   "source": [
    "# visualize the keypoint image\n",
    "Image.fromarray(out.get_image())"
   ]
  },
  {
   "cell_type": "code",
   "execution_count": null,
   "id": "1338de8e",
   "metadata": {},
   "outputs": [],
   "source": [
    "transformed_img = transform(Image.fromarray(out.get_image()))"
   ]
  },
  {
   "cell_type": "code",
   "execution_count": null,
   "id": "559d740e",
   "metadata": {},
   "outputs": [],
   "source": [
    "out_model = model(transformed_img.unsqueeze(0))"
   ]
  },
  {
   "cell_type": "code",
   "execution_count": null,
   "id": "7ef70488",
   "metadata": {},
   "outputs": [],
   "source": [
    "print(\"Yoga class:\", id_to_pose[out_model[0].argmax().item()])"
   ]
  },
  {
   "cell_type": "code",
   "execution_count": null,
   "id": "f9ade20a",
   "metadata": {},
   "outputs": [],
   "source": []
  }
 ],
 "metadata": {
  "kernelspec": {
   "display_name": "Python 3",
   "language": "python",
   "name": "python3"
  },
  "language_info": {
   "codemirror_mode": {
    "name": "ipython",
    "version": 3
   },
   "file_extension": ".py",
   "mimetype": "text/x-python",
   "name": "python",
   "nbconvert_exporter": "python",
   "pygments_lexer": "ipython3",
   "version": "3.8.12"
  }
 },
 "nbformat": 4,
 "nbformat_minor": 5
}
